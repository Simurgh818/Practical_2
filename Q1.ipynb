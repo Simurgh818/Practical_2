{
 "cells": [
  {
   "cell_type": "markdown",
   "id": "48401403-d543-4cf3-b866-c5e71bb2f6ea",
   "metadata": {},
   "source": [
    "# BMED 6780 Programming Practical II\n",
    "\n",
    "## Deep Classifier and Performance Metrics: MedNIST"
   ]
  },
  {
   "cell_type": "markdown",
   "id": "2f175a36-c506-4622-a933-9af5d6b03c04",
   "metadata": {},
   "source": [
    "### a. Load the Data: Display 10 random images with their associated labels\n"
   ]
  },
  {
   "cell_type": "code",
   "execution_count": 1,
   "id": "26f086e8-9006-4242-ab1a-3b2184ed7ba2",
   "metadata": {
    "tags": []
   },
   "outputs": [],
   "source": [
    "import numpy as np\n",
    "import os\n",
    "from matplotlib import pyplot as plt\n",
    "import imageio.v2 as imageio\n",
    "import torch\n",
    "import torchvision\n",
    "import torchvision.transforms as transforms"
   ]
  },
  {
   "cell_type": "markdown",
   "id": "f3337a27-26dd-4fb3-8ae5-c748eecf4f4f",
   "metadata": {
    "tags": []
   },
   "source": [
    "!pip uninstall torchvision"
   ]
  },
  {
   "cell_type": "code",
   "execution_count": 4,
   "id": "38eb2590-e934-4fa3-a310-1d76ca6c848a",
   "metadata": {
    "tags": []
   },
   "outputs": [
    {
     "data": {
      "text/plain": [
       "'C:\\\\Users\\\\sinad\\\\OneDrive - Georgia Institute of Technology\\\\BMED 6780 - Med Image Processing\\\\Programming Practicals\\\\Practical 2\\\\Practical_2'"
      ]
     },
     "execution_count": 4,
     "metadata": {},
     "output_type": "execute_result"
    }
   ],
   "source": [
    "pwd"
   ]
  },
  {
   "cell_type": "code",
   "execution_count": 5,
   "id": "5ea459d3-c0ee-4e62-84ee-26f40b010120",
   "metadata": {
    "tags": []
   },
   "outputs": [
    {
     "name": "stdout",
     "output_type": "stream",
     "text": [
      "C:\\Users\\sinad\\OneDrive - Georgia Institute of Technology\\BMED 6780 - Med Image Processing\\Programming Practicals\\Practical 2\n"
     ]
    }
   ],
   "source": [
    "cd .."
   ]
  },
  {
   "cell_type": "code",
   "execution_count": 3,
   "id": "a762cb70-921b-4daa-b9dc-c989a6dd2a86",
   "metadata": {
    "tags": []
   },
   "outputs": [
    {
     "name": "stdout",
     "output_type": "stream",
     "text": [
      "The MedNIST path is:  C:\\Users\\sinad\\OneDrive - Georgia Institute of Technology\\BMED 6780 - Med Image Processing\\Programming Practicals\\Practical 2\\MedNIST\n"
     ]
    }
   ],
   "source": [
    "# Load the data:\n",
    "directory = 'C:\\\\Users\\\\sinad\\\\OneDrive - Georgia Institute of Technology\\\\BMED 6780 - Med Image Processing\\\\Programming Practicals\\\\Practical 2\\\\MedNIST'\n",
    "dir_path = os.path.abspath(directory)\n",
    "print(\"The MedNIST path is: \", dir_path)"
   ]
  },
  {
   "cell_type": "code",
   "execution_count": 4,
   "id": "a9b3d15f-a184-43c1-babc-46480954f16d",
   "metadata": {
    "tags": []
   },
   "outputs": [
    {
     "name": "stdout",
     "output_type": "stream",
     "text": [
      "Number of image files: 58954\n",
      "Number of labels: 58954\n"
     ]
    }
   ],
   "source": [
    "# List to store image file paths\n",
    "image_files = []\n",
    "\n",
    "# List to store labels\n",
    "labels = []\n",
    "\n",
    "# Loop through subfolders\n",
    "for root, dirs, files in os.walk(directory):\n",
    "    for file in files:\n",
    "        if file.endswith('.jpeg') or file.endswith('.jpg') or file.endswith('.png'):\n",
    "            image_files.append(os.path.join(root, file))\n",
    "            labels.append(os.path.basename(root))\n",
    "\n",
    "# Print the number of image files and labels\n",
    "print(\"Number of image files:\", len(image_files))\n",
    "print(\"Number of labels:\", len(labels))"
   ]
  },
  {
   "cell_type": "code",
   "execution_count": null,
   "id": "28bddf69-d1ea-4e9b-93b0-9994844d7794",
   "metadata": {
    "tags": []
   },
   "outputs": [],
   "source": [
    "# Plot histogram of labels\n",
    "plt.figure(figsize=(10, 4))\n",
    "plt.hist(labels, bins=6)\n",
    "plt.xlabel('Labels')\n",
    "plt.ylabel('Frequency')\n",
    "plt.title('Histogram of Labels')\n",
    "plt.show()"
   ]
  },
  {
   "cell_type": "code",
   "execution_count": 7,
   "id": "a15787e9-3d37-4c7e-878e-90112dd20940",
   "metadata": {
    "tags": []
   },
   "outputs": [
    {
     "name": "stdout",
     "output_type": "stream",
     "text": [
      "Label Counts: {'ChestCT': 10000, 'AbdomenCT': 10000, 'BreastMRI': 8954, 'Hand': 10000, 'HeadCT': 10000, 'CXR': 10000}\n"
     ]
    }
   ],
   "source": [
    "# Check for imbalance\n",
    "unique_labels = set(labels)\n",
    "label_counts = {label: labels.count(label) for label in unique_labels}\n",
    "print(\"Label Counts:\", label_counts)"
   ]
  },
  {
   "cell_type": "code",
   "execution_count": null,
   "id": "1911f938-6dfe-4117-a1ec-442fa2f83e54",
   "metadata": {
    "tags": []
   },
   "outputs": [
    {
     "name": "stdout",
     "output_type": "stream",
     "text": [
      "000000.jpeg\n",
      "000000.jpeg\n",
      "000000.jpeg\n",
      "000000.jpeg\n",
      "000000.jpeg\n",
      "000000.jpeg\n"
     ]
    }
   ],
   "source": [
    "# Display an image from each label\n",
    "plt.figure(figsize=(15, 10))\n",
    "for i, label in enumerate(unique_labels):\n",
    "    plt.subplot(1, 6, i+1)\n",
    "    image_path = os.path.join(dir_path, [filename for filename in image_files if label in filename][0])\n",
    "    print(image_path.split(sep=\"\\\\\")[-1])\n",
    "    img = imageio.imread(image_path)\n",
    "    plt.imshow(img)\n",
    "    plt.title('Label: ' + label)\n",
    "    plt.axis('off')\n",
    "plt.show()"
   ]
  },
  {
   "cell_type": "code",
   "execution_count": null,
   "id": "12033a76-16d2-4cda-a915-44a9ee4314b0",
   "metadata": {},
   "outputs": [],
   "source": []
  },
  {
   "cell_type": "code",
   "execution_count": null,
   "id": "78e6b598-76cb-4007-a0d5-0a4b86c474ad",
   "metadata": {},
   "outputs": [],
   "source": []
  }
 ],
 "metadata": {
  "kernelspec": {
   "display_name": "Python 3 (ipykernel)",
   "language": "python",
   "name": "python3"
  },
  "language_info": {
   "codemirror_mode": {
    "name": "ipython",
    "version": 3
   },
   "file_extension": ".py",
   "mimetype": "text/x-python",
   "name": "python",
   "nbconvert_exporter": "python",
   "pygments_lexer": "ipython3",
   "version": "3.9.18"
  }
 },
 "nbformat": 4,
 "nbformat_minor": 5
}
